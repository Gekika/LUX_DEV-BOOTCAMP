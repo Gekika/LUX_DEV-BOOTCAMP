{
 "cells": [
  {
   "cell_type": "markdown",
   "metadata": {},
   "source": [
    "We are going to be doing our final capstone project"
   ]
  },
  {
   "cell_type": "markdown",
   "metadata": {},
   "source": [
    "    • Develop a machine learning model to predict Telco customer churn (i.e., customers likely to stop using a product or service) and devise strategies to reduce churn rates based on your findings.\n"
   ]
  },
  {
   "cell_type": "markdown",
   "metadata": {},
   "source": [
    "road map \n",
    "- Data Collection:\n",
    "- Data Preprocessing:\n",
    "- Exploratory Data Analysis (EDA):\n",
    "- Model Development:\n",
    "- Interpretability and Feature Importance:\n",
    "- Retention Strategy Development:\n",
    "- Deployment and Monitoring:"
   ]
  },
  {
   "cell_type": "markdown",
   "metadata": {},
   "source": []
  }
 ],
 "metadata": {
  "language_info": {
   "name": "python"
  }
 },
 "nbformat": 4,
 "nbformat_minor": 2
}
